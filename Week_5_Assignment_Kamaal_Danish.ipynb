{
 "cells": [
  {
   "cell_type": "markdown",
   "id": "165166dd",
   "metadata": {},
   "source": [
    "# Week 5-Assignment\n",
    "\n",
    "## MSDS 600 - Introduction to Data Science\n",
    "\n",
    "## Data Science Automation\n",
    "\n",
    "## Professor: Dr. Aiman Gannous\n",
    "\n",
    "### Prepared By: Danish Kamaal"
   ]
  },
  {
   "cell_type": "markdown",
   "id": "c195af74",
   "metadata": {},
   "source": [
    "Using our prepared churn data from week 2:\n",
    "- use pycaret to find an ML algorithm that performs best on the data\n",
    "    - Choose a metric you think is best to use for finding the best model; by default, it is accuracy but it could be AUC, precision, recall, etc. The week 3 FTE has some information on these different metrics.\n",
    "- save the model to disk\n",
    "- create a Python script/file/module with a function that takes a pandas dataframe as an input and returns the probability of churn for each row in the dataframe\n",
    "    - your Python file/function should print out the predictions for new data (new_churn_data.csv)\n",
    "    - the true values for the new data are [1, 0, 0, 1, 0] if you're interested\n",
    "- test your Python module and function with the new data, new_churn_data.csv\n",
    "- write a short summary of the process and results at the end of this notebook\n",
    "- upload this Jupyter Notebook and Python file to a Github repository, and turn in a link to the repository in the week 5 assignment dropbox\n",
    "\n",
    "*Optional* challenges:\n",
    "- return the probability of churn for each new prediction, and the percentile where that prediction is in the distribution of probability predictions from the training dataset (e.g. a high probability of churn like 0.78 might be at the 90th percentile)\n",
    "- use other autoML packages, such as TPOT, H2O, MLBox, etc, and compare performance and features with pycaret\n",
    "- create a class in your Python module to hold the functions that you created\n",
    "- accept user input to specify a file using a tool such as Python's `input()` function, the `click` package for command-line arguments, or a GUI\n",
    "- Use the unmodified churn data (new_unmodified_churn_data.csv) in your Python script. This will require adding the same preprocessing steps from week 2 since this data is like the original unmodified dataset from week 1."
   ]
  },
  {
   "cell_type": "markdown",
   "id": "ce3cdefe",
   "metadata": {},
   "source": [
    "# Load Data"
   ]
  },
  {
   "cell_type": "markdown",
   "id": "7156bcdc",
   "metadata": {},
   "source": [
    "Loading Data and setting Index column as customerID. Updated `TotalCharges_tenure_ratio` Column name to `charge_per_tenure` in `prepped_Churn_data.csv` file to match with column name in `new_churn_data.csv` file to make predictions."
   ]
  },
  {
   "cell_type": "code",
   "execution_count": 1,
   "id": "60b9a1fa",
   "metadata": {},
   "outputs": [
    {
     "data": {
      "text/html": [
       "<div>\n",
       "<style scoped>\n",
       "    .dataframe tbody tr th:only-of-type {\n",
       "        vertical-align: middle;\n",
       "    }\n",
       "\n",
       "    .dataframe tbody tr th {\n",
       "        vertical-align: top;\n",
       "    }\n",
       "\n",
       "    .dataframe thead th {\n",
       "        text-align: right;\n",
       "    }\n",
       "</style>\n",
       "<table border=\"1\" class=\"dataframe\">\n",
       "  <thead>\n",
       "    <tr style=\"text-align: right;\">\n",
       "      <th></th>\n",
       "      <th>tenure</th>\n",
       "      <th>PhoneService</th>\n",
       "      <th>Contract</th>\n",
       "      <th>PaymentMethod</th>\n",
       "      <th>MonthlyCharges</th>\n",
       "      <th>TotalCharges</th>\n",
       "      <th>Churn</th>\n",
       "      <th>charge_per_tenure</th>\n",
       "    </tr>\n",
       "    <tr>\n",
       "      <th>customerID</th>\n",
       "      <th></th>\n",
       "      <th></th>\n",
       "      <th></th>\n",
       "      <th></th>\n",
       "      <th></th>\n",
       "      <th></th>\n",
       "      <th></th>\n",
       "      <th></th>\n",
       "    </tr>\n",
       "  </thead>\n",
       "  <tbody>\n",
       "    <tr>\n",
       "      <th>7590-VHVEG</th>\n",
       "      <td>1</td>\n",
       "      <td>0</td>\n",
       "      <td>0</td>\n",
       "      <td>0</td>\n",
       "      <td>29.85</td>\n",
       "      <td>29.85</td>\n",
       "      <td>0</td>\n",
       "      <td>29.850000</td>\n",
       "    </tr>\n",
       "    <tr>\n",
       "      <th>5575-GNVDE</th>\n",
       "      <td>34</td>\n",
       "      <td>1</td>\n",
       "      <td>1</td>\n",
       "      <td>1</td>\n",
       "      <td>56.95</td>\n",
       "      <td>1889.50</td>\n",
       "      <td>0</td>\n",
       "      <td>55.573529</td>\n",
       "    </tr>\n",
       "    <tr>\n",
       "      <th>3668-QPYBK</th>\n",
       "      <td>2</td>\n",
       "      <td>1</td>\n",
       "      <td>0</td>\n",
       "      <td>1</td>\n",
       "      <td>53.85</td>\n",
       "      <td>108.15</td>\n",
       "      <td>1</td>\n",
       "      <td>54.075000</td>\n",
       "    </tr>\n",
       "    <tr>\n",
       "      <th>7795-CFOCW</th>\n",
       "      <td>45</td>\n",
       "      <td>0</td>\n",
       "      <td>1</td>\n",
       "      <td>2</td>\n",
       "      <td>42.30</td>\n",
       "      <td>1840.75</td>\n",
       "      <td>0</td>\n",
       "      <td>40.905556</td>\n",
       "    </tr>\n",
       "    <tr>\n",
       "      <th>9237-HQITU</th>\n",
       "      <td>2</td>\n",
       "      <td>1</td>\n",
       "      <td>0</td>\n",
       "      <td>0</td>\n",
       "      <td>70.70</td>\n",
       "      <td>151.65</td>\n",
       "      <td>1</td>\n",
       "      <td>75.825000</td>\n",
       "    </tr>\n",
       "    <tr>\n",
       "      <th>...</th>\n",
       "      <td>...</td>\n",
       "      <td>...</td>\n",
       "      <td>...</td>\n",
       "      <td>...</td>\n",
       "      <td>...</td>\n",
       "      <td>...</td>\n",
       "      <td>...</td>\n",
       "      <td>...</td>\n",
       "    </tr>\n",
       "    <tr>\n",
       "      <th>6840-RESVB</th>\n",
       "      <td>24</td>\n",
       "      <td>1</td>\n",
       "      <td>1</td>\n",
       "      <td>1</td>\n",
       "      <td>84.80</td>\n",
       "      <td>1990.50</td>\n",
       "      <td>0</td>\n",
       "      <td>82.937500</td>\n",
       "    </tr>\n",
       "    <tr>\n",
       "      <th>2234-XADUH</th>\n",
       "      <td>72</td>\n",
       "      <td>1</td>\n",
       "      <td>1</td>\n",
       "      <td>3</td>\n",
       "      <td>103.20</td>\n",
       "      <td>7362.90</td>\n",
       "      <td>0</td>\n",
       "      <td>102.262500</td>\n",
       "    </tr>\n",
       "    <tr>\n",
       "      <th>4801-JZAZL</th>\n",
       "      <td>11</td>\n",
       "      <td>0</td>\n",
       "      <td>0</td>\n",
       "      <td>0</td>\n",
       "      <td>29.60</td>\n",
       "      <td>346.45</td>\n",
       "      <td>0</td>\n",
       "      <td>31.495455</td>\n",
       "    </tr>\n",
       "    <tr>\n",
       "      <th>8361-LTMKD</th>\n",
       "      <td>4</td>\n",
       "      <td>1</td>\n",
       "      <td>0</td>\n",
       "      <td>1</td>\n",
       "      <td>74.40</td>\n",
       "      <td>306.60</td>\n",
       "      <td>1</td>\n",
       "      <td>76.650000</td>\n",
       "    </tr>\n",
       "    <tr>\n",
       "      <th>3186-AJIEK</th>\n",
       "      <td>66</td>\n",
       "      <td>1</td>\n",
       "      <td>2</td>\n",
       "      <td>2</td>\n",
       "      <td>105.65</td>\n",
       "      <td>6844.50</td>\n",
       "      <td>0</td>\n",
       "      <td>103.704545</td>\n",
       "    </tr>\n",
       "  </tbody>\n",
       "</table>\n",
       "<p>7032 rows × 8 columns</p>\n",
       "</div>"
      ],
      "text/plain": [
       "            tenure  PhoneService  Contract  PaymentMethod  MonthlyCharges  \\\n",
       "customerID                                                                  \n",
       "7590-VHVEG       1             0         0              0           29.85   \n",
       "5575-GNVDE      34             1         1              1           56.95   \n",
       "3668-QPYBK       2             1         0              1           53.85   \n",
       "7795-CFOCW      45             0         1              2           42.30   \n",
       "9237-HQITU       2             1         0              0           70.70   \n",
       "...            ...           ...       ...            ...             ...   \n",
       "6840-RESVB      24             1         1              1           84.80   \n",
       "2234-XADUH      72             1         1              3          103.20   \n",
       "4801-JZAZL      11             0         0              0           29.60   \n",
       "8361-LTMKD       4             1         0              1           74.40   \n",
       "3186-AJIEK      66             1         2              2          105.65   \n",
       "\n",
       "            TotalCharges  Churn  charge_per_tenure  \n",
       "customerID                                          \n",
       "7590-VHVEG         29.85      0          29.850000  \n",
       "5575-GNVDE       1889.50      0          55.573529  \n",
       "3668-QPYBK        108.15      1          54.075000  \n",
       "7795-CFOCW       1840.75      0          40.905556  \n",
       "9237-HQITU        151.65      1          75.825000  \n",
       "...                  ...    ...                ...  \n",
       "6840-RESVB       1990.50      0          82.937500  \n",
       "2234-XADUH       7362.90      0         102.262500  \n",
       "4801-JZAZL        346.45      0          31.495455  \n",
       "8361-LTMKD        306.60      1          76.650000  \n",
       "3186-AJIEK       6844.50      0         103.704545  \n",
       "\n",
       "[7032 rows x 8 columns]"
      ]
     },
     "execution_count": 1,
     "metadata": {},
     "output_type": "execute_result"
    }
   ],
   "source": [
    "import pandas as pd\n",
    "\n",
    "df = pd.read_csv('prepped_Churn_data.csv', index_col='customerID')\n",
    "df"
   ]
  },
  {
   "cell_type": "markdown",
   "id": "506bf058",
   "metadata": {},
   "source": [
    "# AutoML with PyCaret"
   ]
  },
  {
   "cell_type": "markdown",
   "id": "48149b74",
   "metadata": {},
   "source": [
    "Installed pycaret package. It didn't work as expected at first due to higher version of `scikit-learn`. So Installed supported version of `scikit-learn` `0.23.1` as per instruction on PyCaret website. `PyCaret` is used for autoML, it helps in comparing machine learning models."
   ]
  },
  {
   "cell_type": "code",
   "execution_count": 2,
   "id": "3003f65e",
   "metadata": {},
   "outputs": [],
   "source": [
    "from pycaret.classification import setup, compare_models, predict_model, save_model, load_model"
   ]
  },
  {
   "cell_type": "code",
   "execution_count": 3,
   "id": "c10778bc",
   "metadata": {},
   "outputs": [
    {
     "data": {
      "text/html": [
       "<style type=\"text/css\">\n",
       "</style>\n",
       "<table id=\"T_a2773_\">\n",
       "  <thead>\n",
       "    <tr>\n",
       "      <th class=\"blank level0\" >&nbsp;</th>\n",
       "      <th class=\"col_heading level0 col0\" >Description</th>\n",
       "      <th class=\"col_heading level0 col1\" >Value</th>\n",
       "    </tr>\n",
       "  </thead>\n",
       "  <tbody>\n",
       "    <tr>\n",
       "      <th id=\"T_a2773_level0_row0\" class=\"row_heading level0 row0\" >0</th>\n",
       "      <td id=\"T_a2773_row0_col0\" class=\"data row0 col0\" >session_id</td>\n",
       "      <td id=\"T_a2773_row0_col1\" class=\"data row0 col1\" >6327</td>\n",
       "    </tr>\n",
       "    <tr>\n",
       "      <th id=\"T_a2773_level0_row1\" class=\"row_heading level0 row1\" >1</th>\n",
       "      <td id=\"T_a2773_row1_col0\" class=\"data row1 col0\" >Target</td>\n",
       "      <td id=\"T_a2773_row1_col1\" class=\"data row1 col1\" >Churn</td>\n",
       "    </tr>\n",
       "    <tr>\n",
       "      <th id=\"T_a2773_level0_row2\" class=\"row_heading level0 row2\" >2</th>\n",
       "      <td id=\"T_a2773_row2_col0\" class=\"data row2 col0\" >Target Type</td>\n",
       "      <td id=\"T_a2773_row2_col1\" class=\"data row2 col1\" >Binary</td>\n",
       "    </tr>\n",
       "    <tr>\n",
       "      <th id=\"T_a2773_level0_row3\" class=\"row_heading level0 row3\" >3</th>\n",
       "      <td id=\"T_a2773_row3_col0\" class=\"data row3 col0\" >Label Encoded</td>\n",
       "      <td id=\"T_a2773_row3_col1\" class=\"data row3 col1\" >0: 0, 1: 1</td>\n",
       "    </tr>\n",
       "    <tr>\n",
       "      <th id=\"T_a2773_level0_row4\" class=\"row_heading level0 row4\" >4</th>\n",
       "      <td id=\"T_a2773_row4_col0\" class=\"data row4 col0\" >Original Data</td>\n",
       "      <td id=\"T_a2773_row4_col1\" class=\"data row4 col1\" >(7032, 8)</td>\n",
       "    </tr>\n",
       "    <tr>\n",
       "      <th id=\"T_a2773_level0_row5\" class=\"row_heading level0 row5\" >5</th>\n",
       "      <td id=\"T_a2773_row5_col0\" class=\"data row5 col0\" >Missing Values</td>\n",
       "      <td id=\"T_a2773_row5_col1\" class=\"data row5 col1\" >False</td>\n",
       "    </tr>\n",
       "    <tr>\n",
       "      <th id=\"T_a2773_level0_row6\" class=\"row_heading level0 row6\" >6</th>\n",
       "      <td id=\"T_a2773_row6_col0\" class=\"data row6 col0\" >Numeric Features</td>\n",
       "      <td id=\"T_a2773_row6_col1\" class=\"data row6 col1\" >7</td>\n",
       "    </tr>\n",
       "    <tr>\n",
       "      <th id=\"T_a2773_level0_row7\" class=\"row_heading level0 row7\" >7</th>\n",
       "      <td id=\"T_a2773_row7_col0\" class=\"data row7 col0\" >Categorical Features</td>\n",
       "      <td id=\"T_a2773_row7_col1\" class=\"data row7 col1\" >0</td>\n",
       "    </tr>\n",
       "    <tr>\n",
       "      <th id=\"T_a2773_level0_row8\" class=\"row_heading level0 row8\" >8</th>\n",
       "      <td id=\"T_a2773_row8_col0\" class=\"data row8 col0\" >Transformed Train Set</td>\n",
       "      <td id=\"T_a2773_row8_col1\" class=\"data row8 col1\" >(4922, 7)</td>\n",
       "    </tr>\n",
       "    <tr>\n",
       "      <th id=\"T_a2773_level0_row9\" class=\"row_heading level0 row9\" >9</th>\n",
       "      <td id=\"T_a2773_row9_col0\" class=\"data row9 col0\" >Transformed Test Set</td>\n",
       "      <td id=\"T_a2773_row9_col1\" class=\"data row9 col1\" >(2110, 7)</td>\n",
       "    </tr>\n",
       "    <tr>\n",
       "      <th id=\"T_a2773_level0_row10\" class=\"row_heading level0 row10\" >10</th>\n",
       "      <td id=\"T_a2773_row10_col0\" class=\"data row10 col0\" >Shuffle Train-Test</td>\n",
       "      <td id=\"T_a2773_row10_col1\" class=\"data row10 col1\" >True</td>\n",
       "    </tr>\n",
       "    <tr>\n",
       "      <th id=\"T_a2773_level0_row11\" class=\"row_heading level0 row11\" >11</th>\n",
       "      <td id=\"T_a2773_row11_col0\" class=\"data row11 col0\" >Stratify Train-Test</td>\n",
       "      <td id=\"T_a2773_row11_col1\" class=\"data row11 col1\" >False</td>\n",
       "    </tr>\n",
       "    <tr>\n",
       "      <th id=\"T_a2773_level0_row12\" class=\"row_heading level0 row12\" >12</th>\n",
       "      <td id=\"T_a2773_row12_col0\" class=\"data row12 col0\" >Fold Generator</td>\n",
       "      <td id=\"T_a2773_row12_col1\" class=\"data row12 col1\" >StratifiedKFold</td>\n",
       "    </tr>\n",
       "    <tr>\n",
       "      <th id=\"T_a2773_level0_row13\" class=\"row_heading level0 row13\" >13</th>\n",
       "      <td id=\"T_a2773_row13_col0\" class=\"data row13 col0\" >Fold Number</td>\n",
       "      <td id=\"T_a2773_row13_col1\" class=\"data row13 col1\" >10</td>\n",
       "    </tr>\n",
       "    <tr>\n",
       "      <th id=\"T_a2773_level0_row14\" class=\"row_heading level0 row14\" >14</th>\n",
       "      <td id=\"T_a2773_row14_col0\" class=\"data row14 col0\" >CPU Jobs</td>\n",
       "      <td id=\"T_a2773_row14_col1\" class=\"data row14 col1\" >-1</td>\n",
       "    </tr>\n",
       "    <tr>\n",
       "      <th id=\"T_a2773_level0_row15\" class=\"row_heading level0 row15\" >15</th>\n",
       "      <td id=\"T_a2773_row15_col0\" class=\"data row15 col0\" >Use GPU</td>\n",
       "      <td id=\"T_a2773_row15_col1\" class=\"data row15 col1\" >False</td>\n",
       "    </tr>\n",
       "    <tr>\n",
       "      <th id=\"T_a2773_level0_row16\" class=\"row_heading level0 row16\" >16</th>\n",
       "      <td id=\"T_a2773_row16_col0\" class=\"data row16 col0\" >Log Experiment</td>\n",
       "      <td id=\"T_a2773_row16_col1\" class=\"data row16 col1\" >False</td>\n",
       "    </tr>\n",
       "    <tr>\n",
       "      <th id=\"T_a2773_level0_row17\" class=\"row_heading level0 row17\" >17</th>\n",
       "      <td id=\"T_a2773_row17_col0\" class=\"data row17 col0\" >Experiment Name</td>\n",
       "      <td id=\"T_a2773_row17_col1\" class=\"data row17 col1\" >clf-default-name</td>\n",
       "    </tr>\n",
       "    <tr>\n",
       "      <th id=\"T_a2773_level0_row18\" class=\"row_heading level0 row18\" >18</th>\n",
       "      <td id=\"T_a2773_row18_col0\" class=\"data row18 col0\" >USI</td>\n",
       "      <td id=\"T_a2773_row18_col1\" class=\"data row18 col1\" >47fe</td>\n",
       "    </tr>\n",
       "    <tr>\n",
       "      <th id=\"T_a2773_level0_row19\" class=\"row_heading level0 row19\" >19</th>\n",
       "      <td id=\"T_a2773_row19_col0\" class=\"data row19 col0\" >Fix Imbalance</td>\n",
       "      <td id=\"T_a2773_row19_col1\" class=\"data row19 col1\" >False</td>\n",
       "    </tr>\n",
       "    <tr>\n",
       "      <th id=\"T_a2773_level0_row20\" class=\"row_heading level0 row20\" >20</th>\n",
       "      <td id=\"T_a2773_row20_col0\" class=\"data row20 col0\" >Fix Imbalance Method</td>\n",
       "      <td id=\"T_a2773_row20_col1\" class=\"data row20 col1\" >SMOTE</td>\n",
       "    </tr>\n",
       "  </tbody>\n",
       "</table>\n"
      ],
      "text/plain": [
       "<pandas.io.formats.style.Styler at 0x1eea1a17808>"
      ]
     },
     "metadata": {},
     "output_type": "display_data"
    }
   ],
   "source": [
    "automl = setup(df, target='Churn', preprocess=False, numeric_features=['Contract', 'PaymentMethod', 'PhoneService'])"
   ]
  },
  {
   "cell_type": "markdown",
   "id": "4b27f2d1",
   "metadata": {},
   "source": [
    "Updated Data Type of `Contract` , `PaymentMethod` and `PhoneService` to numeric as it was showing as categorial. It helps in xgboost and lightgbm working."
   ]
  },
  {
   "cell_type": "code",
   "execution_count": 4,
   "id": "e716c3d5",
   "metadata": {},
   "outputs": [
    {
     "data": {
      "text/plain": [
       "Pipeline(memory=None, steps=[('empty_step', 'passthrough')], verbose=False)"
      ]
     },
     "execution_count": 4,
     "metadata": {},
     "output_type": "execute_result"
    }
   ],
   "source": [
    "automl[13]"
   ]
  },
  {
   "cell_type": "markdown",
   "id": "a1b7833f",
   "metadata": {},
   "source": [
    "Running autoML to find best model."
   ]
  },
  {
   "cell_type": "code",
   "execution_count": 5,
   "id": "3bc2ea55",
   "metadata": {},
   "outputs": [
    {
     "data": {
      "text/html": [
       "<style type=\"text/css\">\n",
       "#T_330a0_ th {\n",
       "  text-align: left;\n",
       "}\n",
       "#T_330a0_row0_col0, #T_330a0_row0_col2, #T_330a0_row0_col3, #T_330a0_row0_col4, #T_330a0_row0_col5, #T_330a0_row0_col6, #T_330a0_row0_col7, #T_330a0_row1_col0, #T_330a0_row1_col1, #T_330a0_row1_col2, #T_330a0_row1_col3, #T_330a0_row1_col5, #T_330a0_row1_col6, #T_330a0_row1_col7, #T_330a0_row2_col0, #T_330a0_row2_col1, #T_330a0_row2_col2, #T_330a0_row2_col3, #T_330a0_row2_col4, #T_330a0_row2_col5, #T_330a0_row2_col6, #T_330a0_row2_col7, #T_330a0_row3_col0, #T_330a0_row3_col1, #T_330a0_row3_col2, #T_330a0_row3_col3, #T_330a0_row3_col4, #T_330a0_row3_col5, #T_330a0_row3_col6, #T_330a0_row3_col7, #T_330a0_row4_col0, #T_330a0_row4_col1, #T_330a0_row4_col2, #T_330a0_row4_col3, #T_330a0_row4_col4, #T_330a0_row4_col5, #T_330a0_row4_col6, #T_330a0_row4_col7, #T_330a0_row5_col0, #T_330a0_row5_col1, #T_330a0_row5_col3, #T_330a0_row5_col4, #T_330a0_row5_col5, #T_330a0_row5_col6, #T_330a0_row5_col7, #T_330a0_row6_col0, #T_330a0_row6_col1, #T_330a0_row6_col2, #T_330a0_row6_col3, #T_330a0_row6_col4, #T_330a0_row6_col5, #T_330a0_row6_col6, #T_330a0_row6_col7, #T_330a0_row7_col0, #T_330a0_row7_col1, #T_330a0_row7_col2, #T_330a0_row7_col3, #T_330a0_row7_col4, #T_330a0_row7_col5, #T_330a0_row7_col6, #T_330a0_row7_col7, #T_330a0_row8_col0, #T_330a0_row8_col1, #T_330a0_row8_col2, #T_330a0_row8_col3, #T_330a0_row8_col4, #T_330a0_row8_col5, #T_330a0_row8_col6, #T_330a0_row8_col7, #T_330a0_row9_col0, #T_330a0_row9_col1, #T_330a0_row9_col2, #T_330a0_row9_col3, #T_330a0_row9_col4, #T_330a0_row9_col5, #T_330a0_row9_col6, #T_330a0_row9_col7, #T_330a0_row10_col0, #T_330a0_row10_col1, #T_330a0_row10_col2, #T_330a0_row10_col3, #T_330a0_row10_col4, #T_330a0_row10_col5, #T_330a0_row10_col6, #T_330a0_row10_col7, #T_330a0_row11_col0, #T_330a0_row11_col1, #T_330a0_row11_col2, #T_330a0_row11_col4, #T_330a0_row12_col0, #T_330a0_row12_col1, #T_330a0_row12_col2, #T_330a0_row12_col3, #T_330a0_row12_col4, #T_330a0_row12_col5, #T_330a0_row12_col6, #T_330a0_row12_col7, #T_330a0_row13_col0, #T_330a0_row13_col1, #T_330a0_row13_col2, #T_330a0_row13_col3, #T_330a0_row13_col4, #T_330a0_row13_col5, #T_330a0_row13_col6, #T_330a0_row13_col7, #T_330a0_row14_col0, #T_330a0_row14_col1, #T_330a0_row14_col2, #T_330a0_row14_col3, #T_330a0_row14_col4, #T_330a0_row14_col5, #T_330a0_row14_col6, #T_330a0_row14_col7 {\n",
       "  text-align: left;\n",
       "}\n",
       "#T_330a0_row0_col1, #T_330a0_row1_col4, #T_330a0_row5_col2, #T_330a0_row11_col3, #T_330a0_row11_col5, #T_330a0_row11_col6, #T_330a0_row11_col7 {\n",
       "  text-align: left;\n",
       "  background-color: yellow;\n",
       "}\n",
       "#T_330a0_row0_col8, #T_330a0_row2_col8, #T_330a0_row3_col8, #T_330a0_row4_col8, #T_330a0_row5_col8, #T_330a0_row6_col8, #T_330a0_row7_col8, #T_330a0_row8_col8, #T_330a0_row9_col8, #T_330a0_row10_col8, #T_330a0_row11_col8, #T_330a0_row13_col8, #T_330a0_row14_col8 {\n",
       "  text-align: left;\n",
       "  background-color: lightgrey;\n",
       "}\n",
       "#T_330a0_row1_col8, #T_330a0_row12_col8 {\n",
       "  text-align: left;\n",
       "  background-color: yellow;\n",
       "  background-color: lightgrey;\n",
       "}\n",
       "</style>\n",
       "<table id=\"T_330a0_\">\n",
       "  <thead>\n",
       "    <tr>\n",
       "      <th class=\"blank level0\" >&nbsp;</th>\n",
       "      <th class=\"col_heading level0 col0\" >Model</th>\n",
       "      <th class=\"col_heading level0 col1\" >Accuracy</th>\n",
       "      <th class=\"col_heading level0 col2\" >AUC</th>\n",
       "      <th class=\"col_heading level0 col3\" >Recall</th>\n",
       "      <th class=\"col_heading level0 col4\" >Prec.</th>\n",
       "      <th class=\"col_heading level0 col5\" >F1</th>\n",
       "      <th class=\"col_heading level0 col6\" >Kappa</th>\n",
       "      <th class=\"col_heading level0 col7\" >MCC</th>\n",
       "      <th class=\"col_heading level0 col8\" >TT (Sec)</th>\n",
       "    </tr>\n",
       "  </thead>\n",
       "  <tbody>\n",
       "    <tr>\n",
       "      <th id=\"T_330a0_level0_row0\" class=\"row_heading level0 row0\" >lr</th>\n",
       "      <td id=\"T_330a0_row0_col0\" class=\"data row0 col0\" >Logistic Regression</td>\n",
       "      <td id=\"T_330a0_row0_col1\" class=\"data row0 col1\" >0.7869</td>\n",
       "      <td id=\"T_330a0_row0_col2\" class=\"data row0 col2\" >0.8353</td>\n",
       "      <td id=\"T_330a0_row0_col3\" class=\"data row0 col3\" >0.5125</td>\n",
       "      <td id=\"T_330a0_row0_col4\" class=\"data row0 col4\" >0.6242</td>\n",
       "      <td id=\"T_330a0_row0_col5\" class=\"data row0 col5\" >0.5622</td>\n",
       "      <td id=\"T_330a0_row0_col6\" class=\"data row0 col6\" >0.4233</td>\n",
       "      <td id=\"T_330a0_row0_col7\" class=\"data row0 col7\" >0.4273</td>\n",
       "      <td id=\"T_330a0_row0_col8\" class=\"data row0 col8\" >0.6660</td>\n",
       "    </tr>\n",
       "    <tr>\n",
       "      <th id=\"T_330a0_level0_row1\" class=\"row_heading level0 row1\" >ridge</th>\n",
       "      <td id=\"T_330a0_row1_col0\" class=\"data row1 col0\" >Ridge Classifier</td>\n",
       "      <td id=\"T_330a0_row1_col1\" class=\"data row1 col1\" >0.7855</td>\n",
       "      <td id=\"T_330a0_row1_col2\" class=\"data row1 col2\" >0.0000</td>\n",
       "      <td id=\"T_330a0_row1_col3\" class=\"data row1 col3\" >0.4343</td>\n",
       "      <td id=\"T_330a0_row1_col4\" class=\"data row1 col4\" >0.6486</td>\n",
       "      <td id=\"T_330a0_row1_col5\" class=\"data row1 col5\" >0.5196</td>\n",
       "      <td id=\"T_330a0_row1_col6\" class=\"data row1 col6\" >0.3885</td>\n",
       "      <td id=\"T_330a0_row1_col7\" class=\"data row1 col7\" >0.4018</td>\n",
       "      <td id=\"T_330a0_row1_col8\" class=\"data row1 col8\" >0.0120</td>\n",
       "    </tr>\n",
       "    <tr>\n",
       "      <th id=\"T_330a0_level0_row2\" class=\"row_heading level0 row2\" >catboost</th>\n",
       "      <td id=\"T_330a0_row2_col0\" class=\"data row2 col0\" >CatBoost Classifier</td>\n",
       "      <td id=\"T_330a0_row2_col1\" class=\"data row2 col1\" >0.7854</td>\n",
       "      <td id=\"T_330a0_row2_col2\" class=\"data row2 col2\" >0.8356</td>\n",
       "      <td id=\"T_330a0_row2_col3\" class=\"data row2 col3\" >0.4942</td>\n",
       "      <td id=\"T_330a0_row2_col4\" class=\"data row2 col4\" >0.6269</td>\n",
       "      <td id=\"T_330a0_row2_col5\" class=\"data row2 col5\" >0.5507</td>\n",
       "      <td id=\"T_330a0_row2_col6\" class=\"data row2 col6\" >0.4129</td>\n",
       "      <td id=\"T_330a0_row2_col7\" class=\"data row2 col7\" >0.4190</td>\n",
       "      <td id=\"T_330a0_row2_col8\" class=\"data row2 col8\" >1.2790</td>\n",
       "    </tr>\n",
       "    <tr>\n",
       "      <th id=\"T_330a0_level0_row3\" class=\"row_heading level0 row3\" >ada</th>\n",
       "      <td id=\"T_330a0_row3_col0\" class=\"data row3 col0\" >Ada Boost Classifier</td>\n",
       "      <td id=\"T_330a0_row3_col1\" class=\"data row3 col1\" >0.7850</td>\n",
       "      <td id=\"T_330a0_row3_col2\" class=\"data row3 col2\" >0.8341</td>\n",
       "      <td id=\"T_330a0_row3_col3\" class=\"data row3 col3\" >0.5041</td>\n",
       "      <td id=\"T_330a0_row3_col4\" class=\"data row3 col4\" >0.6229</td>\n",
       "      <td id=\"T_330a0_row3_col5\" class=\"data row3 col5\" >0.5554</td>\n",
       "      <td id=\"T_330a0_row3_col6\" class=\"data row3 col6\" >0.4162</td>\n",
       "      <td id=\"T_330a0_row3_col7\" class=\"data row3 col7\" >0.4212</td>\n",
       "      <td id=\"T_330a0_row3_col8\" class=\"data row3 col8\" >0.1360</td>\n",
       "    </tr>\n",
       "    <tr>\n",
       "      <th id=\"T_330a0_level0_row4\" class=\"row_heading level0 row4\" >lda</th>\n",
       "      <td id=\"T_330a0_row4_col0\" class=\"data row4 col0\" >Linear Discriminant Analysis</td>\n",
       "      <td id=\"T_330a0_row4_col1\" class=\"data row4 col1\" >0.7846</td>\n",
       "      <td id=\"T_330a0_row4_col2\" class=\"data row4 col2\" >0.8234</td>\n",
       "      <td id=\"T_330a0_row4_col3\" class=\"data row4 col3\" >0.4905</td>\n",
       "      <td id=\"T_330a0_row4_col4\" class=\"data row4 col4\" >0.6244</td>\n",
       "      <td id=\"T_330a0_row4_col5\" class=\"data row4 col5\" >0.5488</td>\n",
       "      <td id=\"T_330a0_row4_col6\" class=\"data row4 col6\" >0.4102</td>\n",
       "      <td id=\"T_330a0_row4_col7\" class=\"data row4 col7\" >0.4157</td>\n",
       "      <td id=\"T_330a0_row4_col8\" class=\"data row4 col8\" >0.0130</td>\n",
       "    </tr>\n",
       "    <tr>\n",
       "      <th id=\"T_330a0_level0_row5\" class=\"row_heading level0 row5\" >gbc</th>\n",
       "      <td id=\"T_330a0_row5_col0\" class=\"data row5 col0\" >Gradient Boosting Classifier</td>\n",
       "      <td id=\"T_330a0_row5_col1\" class=\"data row5 col1\" >0.7820</td>\n",
       "      <td id=\"T_330a0_row5_col2\" class=\"data row5 col2\" >0.8359</td>\n",
       "      <td id=\"T_330a0_row5_col3\" class=\"data row5 col3\" >0.4920</td>\n",
       "      <td id=\"T_330a0_row5_col4\" class=\"data row5 col4\" >0.6175</td>\n",
       "      <td id=\"T_330a0_row5_col5\" class=\"data row5 col5\" >0.5462</td>\n",
       "      <td id=\"T_330a0_row5_col6\" class=\"data row5 col6\" >0.4055</td>\n",
       "      <td id=\"T_330a0_row5_col7\" class=\"data row5 col7\" >0.4108</td>\n",
       "      <td id=\"T_330a0_row5_col8\" class=\"data row5 col8\" >0.2800</td>\n",
       "    </tr>\n",
       "    <tr>\n",
       "      <th id=\"T_330a0_level0_row6\" class=\"row_heading level0 row6\" >lightgbm</th>\n",
       "      <td id=\"T_330a0_row6_col0\" class=\"data row6 col0\" >Light Gradient Boosting Machine</td>\n",
       "      <td id=\"T_330a0_row6_col1\" class=\"data row6 col1\" >0.7810</td>\n",
       "      <td id=\"T_330a0_row6_col2\" class=\"data row6 col2\" >0.8274</td>\n",
       "      <td id=\"T_330a0_row6_col3\" class=\"data row6 col3\" >0.5178</td>\n",
       "      <td id=\"T_330a0_row6_col4\" class=\"data row6 col4\" >0.6081</td>\n",
       "      <td id=\"T_330a0_row6_col5\" class=\"data row6 col5\" >0.5578</td>\n",
       "      <td id=\"T_330a0_row6_col6\" class=\"data row6 col6\" >0.4138</td>\n",
       "      <td id=\"T_330a0_row6_col7\" class=\"data row6 col7\" >0.4171</td>\n",
       "      <td id=\"T_330a0_row6_col8\" class=\"data row6 col8\" >0.1640</td>\n",
       "    </tr>\n",
       "    <tr>\n",
       "      <th id=\"T_330a0_level0_row7\" class=\"row_heading level0 row7\" >rf</th>\n",
       "      <td id=\"T_330a0_row7_col0\" class=\"data row7 col0\" >Random Forest Classifier</td>\n",
       "      <td id=\"T_330a0_row7_col1\" class=\"data row7 col1\" >0.7783</td>\n",
       "      <td id=\"T_330a0_row7_col2\" class=\"data row7 col2\" >0.8082</td>\n",
       "      <td id=\"T_330a0_row7_col3\" class=\"data row7 col3\" >0.4935</td>\n",
       "      <td id=\"T_330a0_row7_col4\" class=\"data row7 col4\" >0.6061</td>\n",
       "      <td id=\"T_330a0_row7_col5\" class=\"data row7 col5\" >0.5430</td>\n",
       "      <td id=\"T_330a0_row7_col6\" class=\"data row7 col6\" >0.3990</td>\n",
       "      <td id=\"T_330a0_row7_col7\" class=\"data row7 col7\" >0.4032</td>\n",
       "      <td id=\"T_330a0_row7_col8\" class=\"data row7 col8\" >0.4240</td>\n",
       "    </tr>\n",
       "    <tr>\n",
       "      <th id=\"T_330a0_level0_row8\" class=\"row_heading level0 row8\" >xgboost</th>\n",
       "      <td id=\"T_330a0_row8_col0\" class=\"data row8 col0\" >Extreme Gradient Boosting</td>\n",
       "      <td id=\"T_330a0_row8_col1\" class=\"data row8 col1\" >0.7769</td>\n",
       "      <td id=\"T_330a0_row8_col2\" class=\"data row8 col2\" >0.8154</td>\n",
       "      <td id=\"T_330a0_row8_col3\" class=\"data row8 col3\" >0.4973</td>\n",
       "      <td id=\"T_330a0_row8_col4\" class=\"data row8 col4\" >0.6007</td>\n",
       "      <td id=\"T_330a0_row8_col5\" class=\"data row8 col5\" >0.5434</td>\n",
       "      <td id=\"T_330a0_row8_col6\" class=\"data row8 col6\" >0.3977</td>\n",
       "      <td id=\"T_330a0_row8_col7\" class=\"data row8 col7\" >0.4012</td>\n",
       "      <td id=\"T_330a0_row8_col8\" class=\"data row8 col8\" >0.3840</td>\n",
       "    </tr>\n",
       "    <tr>\n",
       "      <th id=\"T_330a0_level0_row9\" class=\"row_heading level0 row9\" >et</th>\n",
       "      <td id=\"T_330a0_row9_col0\" class=\"data row9 col0\" >Extra Trees Classifier</td>\n",
       "      <td id=\"T_330a0_row9_col1\" class=\"data row9 col1\" >0.7676</td>\n",
       "      <td id=\"T_330a0_row9_col2\" class=\"data row9 col2\" >0.7860</td>\n",
       "      <td id=\"T_330a0_row9_col3\" class=\"data row9 col3\" >0.4943</td>\n",
       "      <td id=\"T_330a0_row9_col4\" class=\"data row9 col4\" >0.5783</td>\n",
       "      <td id=\"T_330a0_row9_col5\" class=\"data row9 col5\" >0.5321</td>\n",
       "      <td id=\"T_330a0_row9_col6\" class=\"data row9 col6\" >0.3789</td>\n",
       "      <td id=\"T_330a0_row9_col7\" class=\"data row9 col7\" >0.3815</td>\n",
       "      <td id=\"T_330a0_row9_col8\" class=\"data row9 col8\" >0.3660</td>\n",
       "    </tr>\n",
       "    <tr>\n",
       "      <th id=\"T_330a0_level0_row10\" class=\"row_heading level0 row10\" >knn</th>\n",
       "      <td id=\"T_330a0_row10_col0\" class=\"data row10 col0\" >K Neighbors Classifier</td>\n",
       "      <td id=\"T_330a0_row10_col1\" class=\"data row10 col1\" >0.7576</td>\n",
       "      <td id=\"T_330a0_row10_col2\" class=\"data row10 col2\" >0.7470</td>\n",
       "      <td id=\"T_330a0_row10_col3\" class=\"data row10 col3\" >0.4358</td>\n",
       "      <td id=\"T_330a0_row10_col4\" class=\"data row10 col4\" >0.5606</td>\n",
       "      <td id=\"T_330a0_row10_col5\" class=\"data row10 col5\" >0.4901</td>\n",
       "      <td id=\"T_330a0_row10_col6\" class=\"data row10 col6\" >0.3344</td>\n",
       "      <td id=\"T_330a0_row10_col7\" class=\"data row10 col7\" >0.3391</td>\n",
       "      <td id=\"T_330a0_row10_col8\" class=\"data row10 col8\" >0.0920</td>\n",
       "    </tr>\n",
       "    <tr>\n",
       "      <th id=\"T_330a0_level0_row11\" class=\"row_heading level0 row11\" >qda</th>\n",
       "      <td id=\"T_330a0_row11_col0\" class=\"data row11 col0\" >Quadratic Discriminant Analysis</td>\n",
       "      <td id=\"T_330a0_row11_col1\" class=\"data row11 col1\" >0.7432</td>\n",
       "      <td id=\"T_330a0_row11_col2\" class=\"data row11 col2\" >0.8182</td>\n",
       "      <td id=\"T_330a0_row11_col3\" class=\"data row11 col3\" >0.7456</td>\n",
       "      <td id=\"T_330a0_row11_col4\" class=\"data row11 col4\" >0.5144</td>\n",
       "      <td id=\"T_330a0_row11_col5\" class=\"data row11 col5\" >0.6085</td>\n",
       "      <td id=\"T_330a0_row11_col6\" class=\"data row11 col6\" >0.4270</td>\n",
       "      <td id=\"T_330a0_row11_col7\" class=\"data row11 col7\" >0.4436</td>\n",
       "      <td id=\"T_330a0_row11_col8\" class=\"data row11 col8\" >0.0160</td>\n",
       "    </tr>\n",
       "    <tr>\n",
       "      <th id=\"T_330a0_level0_row12\" class=\"row_heading level0 row12\" >nb</th>\n",
       "      <td id=\"T_330a0_row12_col0\" class=\"data row12 col0\" >Naive Bayes</td>\n",
       "      <td id=\"T_330a0_row12_col1\" class=\"data row12 col1\" >0.7357</td>\n",
       "      <td id=\"T_330a0_row12_col2\" class=\"data row12 col2\" >0.8139</td>\n",
       "      <td id=\"T_330a0_row12_col3\" class=\"data row12 col3\" >0.7274</td>\n",
       "      <td id=\"T_330a0_row12_col4\" class=\"data row12 col4\" >0.5052</td>\n",
       "      <td id=\"T_330a0_row12_col5\" class=\"data row12 col5\" >0.5959</td>\n",
       "      <td id=\"T_330a0_row12_col6\" class=\"data row12 col6\" >0.4091</td>\n",
       "      <td id=\"T_330a0_row12_col7\" class=\"data row12 col7\" >0.4244</td>\n",
       "      <td id=\"T_330a0_row12_col8\" class=\"data row12 col8\" >0.0120</td>\n",
       "    </tr>\n",
       "    <tr>\n",
       "      <th id=\"T_330a0_level0_row13\" class=\"row_heading level0 row13\" >svm</th>\n",
       "      <td id=\"T_330a0_row13_col0\" class=\"data row13 col0\" >SVM - Linear Kernel</td>\n",
       "      <td id=\"T_330a0_row13_col1\" class=\"data row13 col1\" >0.7273</td>\n",
       "      <td id=\"T_330a0_row13_col2\" class=\"data row13 col2\" >0.0000</td>\n",
       "      <td id=\"T_330a0_row13_col3\" class=\"data row13 col3\" >0.4705</td>\n",
       "      <td id=\"T_330a0_row13_col4\" class=\"data row13 col4\" >0.5583</td>\n",
       "      <td id=\"T_330a0_row13_col5\" class=\"data row13 col5\" >0.4614</td>\n",
       "      <td id=\"T_330a0_row13_col6\" class=\"data row13 col6\" >0.3002</td>\n",
       "      <td id=\"T_330a0_row13_col7\" class=\"data row13 col7\" >0.3288</td>\n",
       "      <td id=\"T_330a0_row13_col8\" class=\"data row13 col8\" >0.0260</td>\n",
       "    </tr>\n",
       "    <tr>\n",
       "      <th id=\"T_330a0_level0_row14\" class=\"row_heading level0 row14\" >dt</th>\n",
       "      <td id=\"T_330a0_row14_col0\" class=\"data row14 col0\" >Decision Tree Classifier</td>\n",
       "      <td id=\"T_330a0_row14_col1\" class=\"data row14 col1\" >0.7239</td>\n",
       "      <td id=\"T_330a0_row14_col2\" class=\"data row14 col2\" >0.6508</td>\n",
       "      <td id=\"T_330a0_row14_col3\" class=\"data row14 col3\" >0.4843</td>\n",
       "      <td id=\"T_330a0_row14_col4\" class=\"data row14 col4\" >0.4849</td>\n",
       "      <td id=\"T_330a0_row14_col5\" class=\"data row14 col5\" >0.4840</td>\n",
       "      <td id=\"T_330a0_row14_col6\" class=\"data row14 col6\" >0.2957</td>\n",
       "      <td id=\"T_330a0_row14_col7\" class=\"data row14 col7\" >0.2961</td>\n",
       "      <td id=\"T_330a0_row14_col8\" class=\"data row14 col8\" >0.0200</td>\n",
       "    </tr>\n",
       "  </tbody>\n",
       "</table>\n"
      ],
      "text/plain": [
       "<pandas.io.formats.style.Styler at 0x1eea1869e48>"
      ]
     },
     "metadata": {},
     "output_type": "display_data"
    }
   ],
   "source": [
    "best_model = compare_models()"
   ]
  },
  {
   "cell_type": "code",
   "execution_count": 6,
   "id": "fb211f8a",
   "metadata": {},
   "outputs": [
    {
     "data": {
      "text/plain": [
       "LogisticRegression(C=1.0, class_weight=None, dual=False, fit_intercept=True,\n",
       "                   intercept_scaling=1, l1_ratio=None, max_iter=1000,\n",
       "                   multi_class='auto', n_jobs=None, penalty='l2',\n",
       "                   random_state=6327, solver='lbfgs', tol=0.0001, verbose=0,\n",
       "                   warm_start=False)"
      ]
     },
     "execution_count": 6,
     "metadata": {},
     "output_type": "execute_result"
    }
   ],
   "source": [
    "best_model"
   ]
  },
  {
   "cell_type": "markdown",
   "id": "e5ecd8ed",
   "metadata": {},
   "source": [
    "Best Model is Logistic Regression.As we are not preprocessing data, best_model object is used to make predictions. Though I also got CatBoost Classifier as well as best model in some runs."
   ]
  },
  {
   "cell_type": "code",
   "execution_count": 7,
   "id": "7e6b35ac",
   "metadata": {},
   "outputs": [
    {
     "data": {
      "text/plain": [
       "(1, 8)"
      ]
     },
     "execution_count": 7,
     "metadata": {},
     "output_type": "execute_result"
    }
   ],
   "source": [
    "df.iloc[-2:-1].shape"
   ]
  },
  {
   "cell_type": "markdown",
   "id": "d749a89b",
   "metadata": {},
   "source": [
    "Indexing [-2:-1] is used to select last row and to make is as 2D."
   ]
  },
  {
   "cell_type": "code",
   "execution_count": 8,
   "id": "74f7d3ac",
   "metadata": {},
   "outputs": [
    {
     "data": {
      "text/html": [
       "<div>\n",
       "<style scoped>\n",
       "    .dataframe tbody tr th:only-of-type {\n",
       "        vertical-align: middle;\n",
       "    }\n",
       "\n",
       "    .dataframe tbody tr th {\n",
       "        vertical-align: top;\n",
       "    }\n",
       "\n",
       "    .dataframe thead th {\n",
       "        text-align: right;\n",
       "    }\n",
       "</style>\n",
       "<table border=\"1\" class=\"dataframe\">\n",
       "  <thead>\n",
       "    <tr style=\"text-align: right;\">\n",
       "      <th></th>\n",
       "      <th>tenure</th>\n",
       "      <th>PhoneService</th>\n",
       "      <th>Contract</th>\n",
       "      <th>PaymentMethod</th>\n",
       "      <th>MonthlyCharges</th>\n",
       "      <th>TotalCharges</th>\n",
       "      <th>Churn</th>\n",
       "      <th>charge_per_tenure</th>\n",
       "      <th>Label</th>\n",
       "      <th>Score</th>\n",
       "    </tr>\n",
       "    <tr>\n",
       "      <th>customerID</th>\n",
       "      <th></th>\n",
       "      <th></th>\n",
       "      <th></th>\n",
       "      <th></th>\n",
       "      <th></th>\n",
       "      <th></th>\n",
       "      <th></th>\n",
       "      <th></th>\n",
       "      <th></th>\n",
       "      <th></th>\n",
       "    </tr>\n",
       "  </thead>\n",
       "  <tbody>\n",
       "    <tr>\n",
       "      <th>8361-LTMKD</th>\n",
       "      <td>4</td>\n",
       "      <td>1</td>\n",
       "      <td>0</td>\n",
       "      <td>1</td>\n",
       "      <td>74.4</td>\n",
       "      <td>306.6</td>\n",
       "      <td>1</td>\n",
       "      <td>76.65</td>\n",
       "      <td>1</td>\n",
       "      <td>0.5663</td>\n",
       "    </tr>\n",
       "  </tbody>\n",
       "</table>\n",
       "</div>"
      ],
      "text/plain": [
       "            tenure  PhoneService  Contract  PaymentMethod  MonthlyCharges  \\\n",
       "customerID                                                                  \n",
       "8361-LTMKD       4             1         0              1            74.4   \n",
       "\n",
       "            TotalCharges  Churn  charge_per_tenure  Label   Score  \n",
       "customerID                                                         \n",
       "8361-LTMKD         306.6      1              76.65      1  0.5663  "
      ]
     },
     "execution_count": 8,
     "metadata": {},
     "output_type": "execute_result"
    }
   ],
   "source": [
    "predict_model(best_model, df.iloc[-2:-1])"
   ]
  },
  {
   "cell_type": "markdown",
   "id": "30aba5af",
   "metadata": {},
   "source": [
    "Above example is of predict_model function which is used when preprocessing is used with autoML. `Label` column has predicted Label which is `1` in this case. As score is >= .5 it rounded it up to `1`."
   ]
  },
  {
   "cell_type": "markdown",
   "id": "d5614c2e",
   "metadata": {},
   "source": [
    "## Saving and loading our model"
   ]
  },
  {
   "cell_type": "markdown",
   "id": "fa2034b2",
   "metadata": {},
   "source": [
    "Saving trained macine learning model which is CBC as python file to be used later. Pickle module is used to save file as pickle file (Saves Data in Binary format)."
   ]
  },
  {
   "cell_type": "code",
   "execution_count": 9,
   "id": "b10b0eae",
   "metadata": {},
   "outputs": [
    {
     "name": "stdout",
     "output_type": "stream",
     "text": [
      "Transformation Pipeline and Model Succesfully Saved\n"
     ]
    },
    {
     "data": {
      "text/plain": [
       "(Pipeline(memory=None,\n",
       "          steps=[('dtypes',\n",
       "                  DataTypes_Auto_infer(categorical_features=[],\n",
       "                                       display_types=True, features_todrop=[],\n",
       "                                       id_columns=[],\n",
       "                                       ml_usecase='classification',\n",
       "                                       numerical_features=['Contract',\n",
       "                                                           'PaymentMethod',\n",
       "                                                           'PhoneService'],\n",
       "                                       target='Churn', time_features=[])),\n",
       "                 ['trained_model',\n",
       "                  LogisticRegression(C=1.0, class_weight=None, dual=False,\n",
       "                                     fit_intercept=True, intercept_scaling=1,\n",
       "                                     l1_ratio=None, max_iter=1000,\n",
       "                                     multi_class='auto', n_jobs=None,\n",
       "                                     penalty='l2', random_state=6327,\n",
       "                                     solver='lbfgs', tol=0.0001, verbose=0,\n",
       "                                     warm_start=False)]],\n",
       "          verbose=False),\n",
       " 'LGR.pkl')"
      ]
     },
     "execution_count": 9,
     "metadata": {},
     "output_type": "execute_result"
    }
   ],
   "source": [
    "save_model(best_model, 'LGR')"
   ]
  },
  {
   "cell_type": "code",
   "execution_count": 10,
   "id": "ef6b3301",
   "metadata": {},
   "outputs": [],
   "source": [
    "import pickle\n",
    "\n",
    "with open('LGR_model.pk', 'wb') as k:\n",
    "    pickle.dump(best_model, k)"
   ]
  },
  {
   "cell_type": "markdown",
   "id": "26344a1b",
   "metadata": {},
   "source": [
    "`open` function is used to open `CBC_model.pk` file. `w` is for writing the file and `b` is for binary format. `with` is used for automatically closing the file."
   ]
  },
  {
   "cell_type": "code",
   "execution_count": 11,
   "id": "15960182",
   "metadata": {},
   "outputs": [],
   "source": [
    "with open('LGR_model.pk', 'rb') as k:\n",
    "    loaded_model = pickle.load(k)"
   ]
  },
  {
   "cell_type": "code",
   "execution_count": 12,
   "id": "d7b60277",
   "metadata": {},
   "outputs": [
    {
     "data": {
      "text/plain": [
       "array([1])"
      ]
     },
     "execution_count": 12,
     "metadata": {},
     "output_type": "execute_result"
    }
   ],
   "source": [
    "new_data = df.iloc[-2:-1].copy()\n",
    "new_data.drop('Churn', axis=1, inplace=True)\n",
    "loaded_model.predict(new_data)"
   ]
  },
  {
   "cell_type": "markdown",
   "id": "4e552a3a",
   "metadata": {},
   "source": [
    "Using load_model function from pycaret to load saved model `CBC`. Then using predict_model to get the prediction."
   ]
  },
  {
   "cell_type": "code",
   "execution_count": 13,
   "id": "ccc91b20",
   "metadata": {},
   "outputs": [
    {
     "name": "stdout",
     "output_type": "stream",
     "text": [
      "Transformation Pipeline and Model Successfully Loaded\n"
     ]
    }
   ],
   "source": [
    "loaded_cbc = load_model('LGR')"
   ]
  },
  {
   "cell_type": "code",
   "execution_count": 14,
   "id": "808a4618",
   "metadata": {},
   "outputs": [
    {
     "data": {
      "text/html": [
       "<div>\n",
       "<style scoped>\n",
       "    .dataframe tbody tr th:only-of-type {\n",
       "        vertical-align: middle;\n",
       "    }\n",
       "\n",
       "    .dataframe tbody tr th {\n",
       "        vertical-align: top;\n",
       "    }\n",
       "\n",
       "    .dataframe thead th {\n",
       "        text-align: right;\n",
       "    }\n",
       "</style>\n",
       "<table border=\"1\" class=\"dataframe\">\n",
       "  <thead>\n",
       "    <tr style=\"text-align: right;\">\n",
       "      <th></th>\n",
       "      <th>tenure</th>\n",
       "      <th>PhoneService</th>\n",
       "      <th>Contract</th>\n",
       "      <th>PaymentMethod</th>\n",
       "      <th>MonthlyCharges</th>\n",
       "      <th>TotalCharges</th>\n",
       "      <th>charge_per_tenure</th>\n",
       "      <th>Label</th>\n",
       "      <th>Score</th>\n",
       "    </tr>\n",
       "    <tr>\n",
       "      <th>customerID</th>\n",
       "      <th></th>\n",
       "      <th></th>\n",
       "      <th></th>\n",
       "      <th></th>\n",
       "      <th></th>\n",
       "      <th></th>\n",
       "      <th></th>\n",
       "      <th></th>\n",
       "      <th></th>\n",
       "    </tr>\n",
       "  </thead>\n",
       "  <tbody>\n",
       "    <tr>\n",
       "      <th>8361-LTMKD</th>\n",
       "      <td>4</td>\n",
       "      <td>1</td>\n",
       "      <td>0</td>\n",
       "      <td>1</td>\n",
       "      <td>74.4</td>\n",
       "      <td>306.6</td>\n",
       "      <td>76.65</td>\n",
       "      <td>1</td>\n",
       "      <td>0.5663</td>\n",
       "    </tr>\n",
       "  </tbody>\n",
       "</table>\n",
       "</div>"
      ],
      "text/plain": [
       "            tenure  PhoneService  Contract  PaymentMethod  MonthlyCharges  \\\n",
       "customerID                                                                  \n",
       "8361-LTMKD       4             1         0              1            74.4   \n",
       "\n",
       "            TotalCharges  charge_per_tenure  Label   Score  \n",
       "customerID                                                  \n",
       "8361-LTMKD         306.6              76.65      1  0.5663  "
      ]
     },
     "execution_count": 14,
     "metadata": {},
     "output_type": "execute_result"
    }
   ],
   "source": [
    "predict_model(loaded_cbc, new_data)"
   ]
  },
  {
   "cell_type": "markdown",
   "id": "a3429a76",
   "metadata": {},
   "source": [
    "# Making a Python Module to make predictions"
   ]
  },
  {
   "cell_type": "markdown",
   "id": "b5308082",
   "metadata": {},
   "source": [
    "Using machine learning model in a Python file to provide new data as input and get the predictions. I used `VS Code` IDE to create a Python file."
   ]
  },
  {
   "cell_type": "code",
   "execution_count": 15,
   "id": "ecbc9dd7",
   "metadata": {},
   "outputs": [
    {
     "data": {
      "text/html": [
       "<style>pre { line-height: 125%; }\n",
       "td.linenos .normal { color: inherit; background-color: transparent; padding-left: 5px; padding-right: 5px; }\n",
       "span.linenos { color: inherit; background-color: transparent; padding-left: 5px; padding-right: 5px; }\n",
       "td.linenos .special { color: #000000; background-color: #ffffc0; padding-left: 5px; padding-right: 5px; }\n",
       "span.linenos.special { color: #000000; background-color: #ffffc0; padding-left: 5px; padding-right: 5px; }\n",
       ".output_html .hll { background-color: #ffffcc }\n",
       ".output_html { background: #f8f8f8; }\n",
       ".output_html .c { color: #3D7B7B; font-style: italic } /* Comment */\n",
       ".output_html .err { border: 1px solid #FF0000 } /* Error */\n",
       ".output_html .k { color: #008000; font-weight: bold } /* Keyword */\n",
       ".output_html .o { color: #666666 } /* Operator */\n",
       ".output_html .ch { color: #3D7B7B; font-style: italic } /* Comment.Hashbang */\n",
       ".output_html .cm { color: #3D7B7B; font-style: italic } /* Comment.Multiline */\n",
       ".output_html .cp { color: #9C6500 } /* Comment.Preproc */\n",
       ".output_html .cpf { color: #3D7B7B; font-style: italic } /* Comment.PreprocFile */\n",
       ".output_html .c1 { color: #3D7B7B; font-style: italic } /* Comment.Single */\n",
       ".output_html .cs { color: #3D7B7B; font-style: italic } /* Comment.Special */\n",
       ".output_html .gd { color: #A00000 } /* Generic.Deleted */\n",
       ".output_html .ge { font-style: italic } /* Generic.Emph */\n",
       ".output_html .gr { color: #E40000 } /* Generic.Error */\n",
       ".output_html .gh { color: #000080; font-weight: bold } /* Generic.Heading */\n",
       ".output_html .gi { color: #008400 } /* Generic.Inserted */\n",
       ".output_html .go { color: #717171 } /* Generic.Output */\n",
       ".output_html .gp { color: #000080; font-weight: bold } /* Generic.Prompt */\n",
       ".output_html .gs { font-weight: bold } /* Generic.Strong */\n",
       ".output_html .gu { color: #800080; font-weight: bold } /* Generic.Subheading */\n",
       ".output_html .gt { color: #0044DD } /* Generic.Traceback */\n",
       ".output_html .kc { color: #008000; font-weight: bold } /* Keyword.Constant */\n",
       ".output_html .kd { color: #008000; font-weight: bold } /* Keyword.Declaration */\n",
       ".output_html .kn { color: #008000; font-weight: bold } /* Keyword.Namespace */\n",
       ".output_html .kp { color: #008000 } /* Keyword.Pseudo */\n",
       ".output_html .kr { color: #008000; font-weight: bold } /* Keyword.Reserved */\n",
       ".output_html .kt { color: #B00040 } /* Keyword.Type */\n",
       ".output_html .m { color: #666666 } /* Literal.Number */\n",
       ".output_html .s { color: #BA2121 } /* Literal.String */\n",
       ".output_html .na { color: #687822 } /* Name.Attribute */\n",
       ".output_html .nb { color: #008000 } /* Name.Builtin */\n",
       ".output_html .nc { color: #0000FF; font-weight: bold } /* Name.Class */\n",
       ".output_html .no { color: #880000 } /* Name.Constant */\n",
       ".output_html .nd { color: #AA22FF } /* Name.Decorator */\n",
       ".output_html .ni { color: #717171; font-weight: bold } /* Name.Entity */\n",
       ".output_html .ne { color: #CB3F38; font-weight: bold } /* Name.Exception */\n",
       ".output_html .nf { color: #0000FF } /* Name.Function */\n",
       ".output_html .nl { color: #767600 } /* Name.Label */\n",
       ".output_html .nn { color: #0000FF; font-weight: bold } /* Name.Namespace */\n",
       ".output_html .nt { color: #008000; font-weight: bold } /* Name.Tag */\n",
       ".output_html .nv { color: #19177C } /* Name.Variable */\n",
       ".output_html .ow { color: #AA22FF; font-weight: bold } /* Operator.Word */\n",
       ".output_html .w { color: #bbbbbb } /* Text.Whitespace */\n",
       ".output_html .mb { color: #666666 } /* Literal.Number.Bin */\n",
       ".output_html .mf { color: #666666 } /* Literal.Number.Float */\n",
       ".output_html .mh { color: #666666 } /* Literal.Number.Hex */\n",
       ".output_html .mi { color: #666666 } /* Literal.Number.Integer */\n",
       ".output_html .mo { color: #666666 } /* Literal.Number.Oct */\n",
       ".output_html .sa { color: #BA2121 } /* Literal.String.Affix */\n",
       ".output_html .sb { color: #BA2121 } /* Literal.String.Backtick */\n",
       ".output_html .sc { color: #BA2121 } /* Literal.String.Char */\n",
       ".output_html .dl { color: #BA2121 } /* Literal.String.Delimiter */\n",
       ".output_html .sd { color: #BA2121; font-style: italic } /* Literal.String.Doc */\n",
       ".output_html .s2 { color: #BA2121 } /* Literal.String.Double */\n",
       ".output_html .se { color: #AA5D1F; font-weight: bold } /* Literal.String.Escape */\n",
       ".output_html .sh { color: #BA2121 } /* Literal.String.Heredoc */\n",
       ".output_html .si { color: #A45A77; font-weight: bold } /* Literal.String.Interpol */\n",
       ".output_html .sx { color: #008000 } /* Literal.String.Other */\n",
       ".output_html .sr { color: #A45A77 } /* Literal.String.Regex */\n",
       ".output_html .s1 { color: #BA2121 } /* Literal.String.Single */\n",
       ".output_html .ss { color: #19177C } /* Literal.String.Symbol */\n",
       ".output_html .bp { color: #008000 } /* Name.Builtin.Pseudo */\n",
       ".output_html .fm { color: #0000FF } /* Name.Function.Magic */\n",
       ".output_html .vc { color: #19177C } /* Name.Variable.Class */\n",
       ".output_html .vg { color: #19177C } /* Name.Variable.Global */\n",
       ".output_html .vi { color: #19177C } /* Name.Variable.Instance */\n",
       ".output_html .vm { color: #19177C } /* Name.Variable.Magic */\n",
       ".output_html .il { color: #666666 } /* Literal.Number.Integer.Long */</style><div class=\"highlight\"><pre><span></span><span class=\"kn\">import</span> <span class=\"nn\">pandas</span> <span class=\"k\">as</span> <span class=\"nn\">pd</span>\n",
       "<span class=\"kn\">from</span> <span class=\"nn\">pycaret.classification</span> <span class=\"kn\">import</span> <span class=\"n\">predict_model</span><span class=\"p\">,</span> <span class=\"n\">load_model</span>\n",
       "\n",
       "<span class=\"k\">def</span> <span class=\"nf\">load_data</span><span class=\"p\">(</span><span class=\"n\">filepath</span><span class=\"p\">):</span>\n",
       "    <span class=\"sd\">&quot;&quot;&quot;</span>\n",
       "<span class=\"sd\">    Loads Churn data into a DataFrame from a string filepath.</span>\n",
       "<span class=\"sd\">    &quot;&quot;&quot;</span>\n",
       "    <span class=\"n\">df</span> <span class=\"o\">=</span> <span class=\"n\">pd</span><span class=\"o\">.</span><span class=\"n\">read_csv</span><span class=\"p\">(</span><span class=\"n\">filepath</span><span class=\"p\">,</span> <span class=\"n\">index_col</span><span class=\"o\">=</span><span class=\"s1\">&#39;customerID&#39;</span><span class=\"p\">)</span>\n",
       "    <span class=\"k\">return</span> <span class=\"n\">df</span>\n",
       "\n",
       "\n",
       "<span class=\"k\">def</span> <span class=\"nf\">make_predictions</span><span class=\"p\">(</span><span class=\"n\">df</span><span class=\"p\">):</span>\n",
       "    <span class=\"sd\">&quot;&quot;&quot;</span>\n",
       "<span class=\"sd\">    Uses the pycaret best model to make predictions on data in the df dataframe.</span>\n",
       "<span class=\"sd\">    &quot;&quot;&quot;</span>\n",
       "    <span class=\"n\">model</span> <span class=\"o\">=</span> <span class=\"n\">load_model</span><span class=\"p\">(</span><span class=\"s1\">&#39;LGR&#39;</span><span class=\"p\">)</span>\n",
       "    <span class=\"n\">predictions</span> <span class=\"o\">=</span> <span class=\"n\">predict_model</span><span class=\"p\">(</span><span class=\"n\">model</span><span class=\"p\">,</span> <span class=\"n\">data</span><span class=\"o\">=</span><span class=\"n\">df</span><span class=\"p\">)</span>\n",
       "    <span class=\"n\">predictions</span><span class=\"o\">.</span><span class=\"n\">rename</span><span class=\"p\">({</span><span class=\"s1\">&#39;Label&#39;</span><span class=\"p\">:</span> <span class=\"s1\">&#39;churn_prediction&#39;</span><span class=\"p\">},</span> <span class=\"n\">axis</span><span class=\"o\">=</span><span class=\"mi\">1</span><span class=\"p\">,</span> <span class=\"n\">inplace</span><span class=\"o\">=</span><span class=\"kc\">True</span><span class=\"p\">)</span>\n",
       "    <span class=\"n\">predictions</span><span class=\"p\">[</span><span class=\"s1\">&#39;churn_prediction&#39;</span><span class=\"p\">]</span><span class=\"o\">.</span><span class=\"n\">replace</span><span class=\"p\">({</span><span class=\"mi\">1</span><span class=\"p\">:</span> <span class=\"s1\">&#39;Yes&#39;</span><span class=\"p\">,</span> <span class=\"mi\">0</span><span class=\"p\">:</span> <span class=\"s1\">&#39;No&#39;</span><span class=\"p\">},</span>\n",
       "                                            <span class=\"n\">inplace</span><span class=\"o\">=</span><span class=\"kc\">True</span><span class=\"p\">)</span>\n",
       "    <span class=\"k\">return</span> <span class=\"n\">predictions</span><span class=\"p\">[</span><span class=\"s1\">&#39;churn_prediction&#39;</span><span class=\"p\">]</span>\n",
       "\n",
       "\n",
       "<span class=\"k\">if</span> <span class=\"vm\">__name__</span> <span class=\"o\">==</span> <span class=\"s2\">&quot;__main__&quot;</span><span class=\"p\">:</span>\n",
       "    <span class=\"n\">df</span> <span class=\"o\">=</span> <span class=\"n\">load_data</span><span class=\"p\">(</span><span class=\"s1\">&#39;new_churn_data.csv&#39;</span><span class=\"p\">)</span>\n",
       "    <span class=\"n\">predictions</span> <span class=\"o\">=</span> <span class=\"n\">make_predictions</span><span class=\"p\">(</span><span class=\"n\">df</span><span class=\"p\">)</span>\n",
       "    <span class=\"nb\">print</span><span class=\"p\">(</span><span class=\"s1\">&#39;predictions:&#39;</span><span class=\"p\">)</span>\n",
       "    <span class=\"nb\">print</span><span class=\"p\">(</span><span class=\"n\">predictions</span><span class=\"p\">)</span>\n",
       "</pre></div>\n"
      ],
      "text/latex": [
       "\\begin{Verbatim}[commandchars=\\\\\\{\\}]\n",
       "\\PY{k+kn}{import} \\PY{n+nn}{pandas} \\PY{k}{as} \\PY{n+nn}{pd}\n",
       "\\PY{k+kn}{from} \\PY{n+nn}{pycaret}\\PY{n+nn}{.}\\PY{n+nn}{classification} \\PY{k+kn}{import} \\PY{n}{predict\\PYZus{}model}\\PY{p}{,} \\PY{n}{load\\PYZus{}model}\n",
       "\n",
       "\\PY{k}{def} \\PY{n+nf}{load\\PYZus{}data}\\PY{p}{(}\\PY{n}{filepath}\\PY{p}{)}\\PY{p}{:}\n",
       "    \\PY{l+s+sd}{\\PYZdq{}\\PYZdq{}\\PYZdq{}}\n",
       "\\PY{l+s+sd}{    Loads Churn data into a DataFrame from a string filepath.}\n",
       "\\PY{l+s+sd}{    \\PYZdq{}\\PYZdq{}\\PYZdq{}}\n",
       "    \\PY{n}{df} \\PY{o}{=} \\PY{n}{pd}\\PY{o}{.}\\PY{n}{read\\PYZus{}csv}\\PY{p}{(}\\PY{n}{filepath}\\PY{p}{,} \\PY{n}{index\\PYZus{}col}\\PY{o}{=}\\PY{l+s+s1}{\\PYZsq{}}\\PY{l+s+s1}{customerID}\\PY{l+s+s1}{\\PYZsq{}}\\PY{p}{)}\n",
       "    \\PY{k}{return} \\PY{n}{df}\n",
       "\n",
       "\n",
       "\\PY{k}{def} \\PY{n+nf}{make\\PYZus{}predictions}\\PY{p}{(}\\PY{n}{df}\\PY{p}{)}\\PY{p}{:}\n",
       "    \\PY{l+s+sd}{\\PYZdq{}\\PYZdq{}\\PYZdq{}}\n",
       "\\PY{l+s+sd}{    Uses the pycaret best model to make predictions on data in the df dataframe.}\n",
       "\\PY{l+s+sd}{    \\PYZdq{}\\PYZdq{}\\PYZdq{}}\n",
       "    \\PY{n}{model} \\PY{o}{=} \\PY{n}{load\\PYZus{}model}\\PY{p}{(}\\PY{l+s+s1}{\\PYZsq{}}\\PY{l+s+s1}{LGR}\\PY{l+s+s1}{\\PYZsq{}}\\PY{p}{)}\n",
       "    \\PY{n}{predictions} \\PY{o}{=} \\PY{n}{predict\\PYZus{}model}\\PY{p}{(}\\PY{n}{model}\\PY{p}{,} \\PY{n}{data}\\PY{o}{=}\\PY{n}{df}\\PY{p}{)}\n",
       "    \\PY{n}{predictions}\\PY{o}{.}\\PY{n}{rename}\\PY{p}{(}\\PY{p}{\\PYZob{}}\\PY{l+s+s1}{\\PYZsq{}}\\PY{l+s+s1}{Label}\\PY{l+s+s1}{\\PYZsq{}}\\PY{p}{:} \\PY{l+s+s1}{\\PYZsq{}}\\PY{l+s+s1}{churn\\PYZus{}prediction}\\PY{l+s+s1}{\\PYZsq{}}\\PY{p}{\\PYZcb{}}\\PY{p}{,} \\PY{n}{axis}\\PY{o}{=}\\PY{l+m+mi}{1}\\PY{p}{,} \\PY{n}{inplace}\\PY{o}{=}\\PY{k+kc}{True}\\PY{p}{)}\n",
       "    \\PY{n}{predictions}\\PY{p}{[}\\PY{l+s+s1}{\\PYZsq{}}\\PY{l+s+s1}{churn\\PYZus{}prediction}\\PY{l+s+s1}{\\PYZsq{}}\\PY{p}{]}\\PY{o}{.}\\PY{n}{replace}\\PY{p}{(}\\PY{p}{\\PYZob{}}\\PY{l+m+mi}{1}\\PY{p}{:} \\PY{l+s+s1}{\\PYZsq{}}\\PY{l+s+s1}{Yes}\\PY{l+s+s1}{\\PYZsq{}}\\PY{p}{,} \\PY{l+m+mi}{0}\\PY{p}{:} \\PY{l+s+s1}{\\PYZsq{}}\\PY{l+s+s1}{No}\\PY{l+s+s1}{\\PYZsq{}}\\PY{p}{\\PYZcb{}}\\PY{p}{,}\n",
       "                                            \\PY{n}{inplace}\\PY{o}{=}\\PY{k+kc}{True}\\PY{p}{)}\n",
       "    \\PY{k}{return} \\PY{n}{predictions}\\PY{p}{[}\\PY{l+s+s1}{\\PYZsq{}}\\PY{l+s+s1}{churn\\PYZus{}prediction}\\PY{l+s+s1}{\\PYZsq{}}\\PY{p}{]}\n",
       "\n",
       "\n",
       "\\PY{k}{if} \\PY{n+nv+vm}{\\PYZus{}\\PYZus{}name\\PYZus{}\\PYZus{}} \\PY{o}{==} \\PY{l+s+s2}{\\PYZdq{}}\\PY{l+s+s2}{\\PYZus{}\\PYZus{}main\\PYZus{}\\PYZus{}}\\PY{l+s+s2}{\\PYZdq{}}\\PY{p}{:}\n",
       "    \\PY{n}{df} \\PY{o}{=} \\PY{n}{load\\PYZus{}data}\\PY{p}{(}\\PY{l+s+s1}{\\PYZsq{}}\\PY{l+s+s1}{new\\PYZus{}churn\\PYZus{}data.csv}\\PY{l+s+s1}{\\PYZsq{}}\\PY{p}{)}\n",
       "    \\PY{n}{predictions} \\PY{o}{=} \\PY{n}{make\\PYZus{}predictions}\\PY{p}{(}\\PY{n}{df}\\PY{p}{)}\n",
       "    \\PY{n+nb}{print}\\PY{p}{(}\\PY{l+s+s1}{\\PYZsq{}}\\PY{l+s+s1}{predictions:}\\PY{l+s+s1}{\\PYZsq{}}\\PY{p}{)}\n",
       "    \\PY{n+nb}{print}\\PY{p}{(}\\PY{n}{predictions}\\PY{p}{)}\n",
       "\\end{Verbatim}\n"
      ],
      "text/plain": [
       "import pandas as pd\n",
       "from pycaret.classification import predict_model, load_model\n",
       "\n",
       "def load_data(filepath):\n",
       "    \"\"\"\n",
       "    Loads Churn data into a DataFrame from a string filepath.\n",
       "    \"\"\"\n",
       "    df = pd.read_csv(filepath, index_col='customerID')\n",
       "    return df\n",
       "\n",
       "\n",
       "def make_predictions(df):\n",
       "    \"\"\"\n",
       "    Uses the pycaret best model to make predictions on data in the df dataframe.\n",
       "    \"\"\"\n",
       "    model = load_model('LGR')\n",
       "    predictions = predict_model(model, data=df)\n",
       "    predictions.rename({'Label': 'churn_prediction'}, axis=1, inplace=True)\n",
       "    predictions['churn_prediction'].replace({1: 'Yes', 0: 'No'},\n",
       "                                            inplace=True)\n",
       "    return predictions['churn_prediction']\n",
       "\n",
       "\n",
       "if __name__ == \"__main__\":\n",
       "    df = load_data('new_churn_data.csv')\n",
       "    predictions = make_predictions(df)\n",
       "    print('predictions:')\n",
       "    print(predictions)"
      ]
     },
     "execution_count": 15,
     "metadata": {},
     "output_type": "execute_result"
    }
   ],
   "source": [
    "from IPython.display import Code\n",
    "\n",
    "Code('predict_churn.py')"
   ]
  },
  {
   "cell_type": "markdown",
   "id": "a199670a",
   "metadata": {},
   "source": [
    "Running the Python file using magic command `%run`"
   ]
  },
  {
   "cell_type": "code",
   "execution_count": 16,
   "id": "1796a9d5",
   "metadata": {},
   "outputs": [
    {
     "name": "stdout",
     "output_type": "stream",
     "text": [
      "Transformation Pipeline and Model Successfully Loaded\n",
      "predictions:\n",
      "customerID\n",
      "9305-CKSKC    Yes\n",
      "1452-KNGVK     No\n",
      "6723-OKKJM     No\n",
      "7832-POPKP     No\n",
      "6348-TACGU     No\n",
      "Name: churn_prediction, dtype: object\n"
     ]
    }
   ],
   "source": [
    "%run predict_churn.py"
   ]
  },
  {
   "cell_type": "markdown",
   "id": "71f030d8",
   "metadata": {},
   "source": [
    "I was getting some other models as best models in some runs but `Logistic Regression` was the one that came up frequently. Comparing with True Values for `new_churn_data.csv` i.e. [1, 0, 0, 1, 0] we have one false negative. "
   ]
  },
  {
   "attachments": {
    "VS_Code-3.JPG": {
     "image/jpeg": "[encoded data removed]"
    }
   },
   "cell_type": "markdown",
   "id": "c17b9cf7",
   "metadata": {},
   "source": [
    "`VS Code` Screenshot of Python File\n",
    "\n",
    "![VS_Code-3.JPG](attachment:VS_Code-3.JPG)\n"
   ]
  },
  {
   "cell_type": "markdown",
   "id": "23b47280",
   "metadata": {},
   "source": [
    "# Saving our code to GitHub"
   ]
  },
  {
   "cell_type": "markdown",
   "id": "50e24e27",
   "metadata": {},
   "source": [
    "I already had account on GitHub. But as instructed by Professor in (George, 2021) downloaded GUI Desktop application and created respository using it."
   ]
  },
  {
   "cell_type": "markdown",
   "id": "c49db562",
   "metadata": {},
   "source": [
    "# Summary"
   ]
  },
  {
   "cell_type": "markdown",
   "id": "9533a1cd",
   "metadata": {},
   "source": [
    "First updated `TotalCharges_tenure_ratio` Column name to `charge_per_tenure` in `prepped_Churn_data.csv` file to match with column name in `new_churn_data.csv` file to make predictions. Then loaded data from `prepped_Churn_data.csv` file using pandas. Then installed `pycaret` package, also installed compatible `scikit-learn` version that supports `PyCaret`. PyCaret is used for AutoML and compares different machine learning models. Data type of `Contract` , `PaymentMethod` and `PhoneService` was Categorical, so updated it to numeric, also set preprocess to False for getting xgboost and lightgbm working. On comparing models `Logistic Regression` turned out to be best model. \n",
    "\n",
    "Next step is to Save and Load the best model. Used pickle module to save data in Binary format, file is saved as pickle file. `load_model` function was used to load saved best model which is `Logistic Regression` to make prediction. `VS Code` IDE was used to create Python file. Loaded `new_churn_data.csv` in to data frame and pycaret best model was used to get prediction. On making prediction, we had one false negative. So basically best moded performed fairly well, though it is not perfect.\n",
    "\n",
    "Also downloaded GitHub GUI Desktop application as I already had GitHub Account logged in and created repository `MSDS_600_Week5`. [Link to Week 5 Assignment GitHub Repository](https://github.com/dkamaal/MSDS_600_Week5)\n"
   ]
  },
  {
   "cell_type": "markdown",
   "id": "b9834719",
   "metadata": {},
   "source": [
    "# References"
   ]
  },
  {
   "cell_type": "markdown",
   "id": "9e2c83e8",
   "metadata": {},
   "source": [
    "Gannous, A. (2022) MSDS 600 - From the Experts: Data Science Automation. World Class. Anderson College of Business & Computing. Regis University.\n",
    "\n",
    "George, N. (2021) MSDS 600 - From the Experts: Data Science Automation. World Class. Anderson College of Business & Computing. Regis University.\n",
    "\n",
    "Masood, A. & Sherif, A. (2021) Automated Machine Learning. Packt Publishing. [O’Reilly Version] Retrieved from https://learning.oreilly.com/library/view/automated-machine-learning/9781800567689/"
   ]
  },
  {
   "cell_type": "code",
   "execution_count": null,
   "id": "b60c203f",
   "metadata": {},
   "outputs": [],
   "source": []
  }
 ],
 "metadata": {
  "kernelspec": {
   "display_name": "Python 3 (ipykernel)",
   "language": "python",
   "name": "python3"
  },
  "language_info": {
   "codemirror_mode": {
    "name": "ipython",
    "version": 3
   },
   "file_extension": ".py",
   "mimetype": "text/x-python",
   "name": "python",
   "nbconvert_exporter": "python",
   "pygments_lexer": "ipython3",
   "version": "3.7.11"
  }
 },
 "nbformat": 4,
 "nbformat_minor": 5
}
